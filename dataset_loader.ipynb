{
 "cells": [
  {
   "cell_type": "code",
   "id": "initial_id",
   "metadata": {
    "collapsed": true,
    "ExecuteTime": {
     "end_time": "2025-08-20T14:02:53.154981Z",
     "start_time": "2025-08-20T14:02:53.134896Z"
    }
   },
   "source": [
    "from Dataset.multi_dataset import multi_dataset\n",
    "from dataclasses import field\n"
   ],
   "outputs": [],
   "execution_count": 6
  },
  {
   "metadata": {},
   "cell_type": "code",
   "outputs": [],
   "execution_count": null,
   "source": [
    "tokenizer_path = field(default='../Llama-2-13b-hf',\n",
    "                                metadata={\"help\": \"Path to the tokenizer data.\"}\n",
    "                            )\n",
    "report_csv_path = field(\n",
    "        default=\"Dataset/INbreast/train_and_val_split_radfm_fine-tuning.csv\",\n",
    "        metadata={\"help\": \"Path to your custom report-generation CSV.\"}\n",
    "    )\n",
    "report_prompt_json= field(\n",
    "        default=None,\n",
    "        metadata={\"help\": \"Optional path to a prompt json for report generation; if None, use default report_prompt.json\"}\n",
    "    )\n",
    "\n",
    "train_dataset = multi_dataset(\n",
    "        text_tokenizer=tokenizer_path,\n",
    "        custom_report_csv=report_csv_path,\n",
    "        custom_prompt_json=report_prompt_json\n",
    "    )\n",
    "\n"
   ],
   "id": "140a152b8947f5e8"
  }
 ],
 "metadata": {
  "kernelspec": {
   "display_name": "genai",
   "language": "python",
   "name": "genai"
  },
  "language_info": {
   "codemirror_mode": {
    "name": "ipython",
    "version": 2
   },
   "file_extension": ".py",
   "mimetype": "text/x-python",
   "name": "python",
   "nbconvert_exporter": "python",
   "pygments_lexer": "ipython2",
   "version": "2.7.6"
  }
 },
 "nbformat": 4,
 "nbformat_minor": 5
}
